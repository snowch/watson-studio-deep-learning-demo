{
 "cells": [
  {
   "cell_type": "markdown",
   "metadata": {},
   "source": [
    "Define notebook variables"
   ]
  },
  {
   "cell_type": "code",
   "execution_count": null,
   "metadata": {},
   "outputs": [],
   "source": [
    "# @hidden_cell\n",
    "# The project token is an authorization token that is used to access project resources like data sources, connections, and used by platform APIs.\n",
    "\n",
    "project_id = ''\n",
    "project_access_token = ''\n",
    "\n",
    "training_bucket = project_id + '-training'\n",
    "results_bucket = project_id + '-results'\n",
    "\n",
    "cos_connection_name = 'COS Images'"
   ]
  },
  {
   "cell_type": "markdown",
   "metadata": {},
   "source": [
    "Extract the images"
   ]
  },
  {
   "cell_type": "code",
   "execution_count": null,
   "metadata": {},
   "outputs": [],
   "source": [
    "import keras\n",
    "from keras.datasets import mnist\n",
    "import pickle, numpy\n",
    "from sklearn.model_selection import train_test_split\n",
    "\n",
    "# The data, split between train and test sets:\n",
    "(X, y), (X_test, y_test) = mnist.load_data()\n",
    "# Make additional split between training and validation sets:\n",
    "X_train, X_valid, y_train, y_valid = train_test_split(X, y, test_size=0.166, random_state=42)\n",
    "\n",
    "with open('mnist-tf-train.pkl', 'wb') as f:\n",
    "    pickle.dump((X_train, y_train), f, protocol=pickle.HIGHEST_PROTOCOL)\n",
    "\n",
    "with open('mnist-tf-valid.pkl', 'wb') as f:\n",
    "    pickle.dump((X_valid, y_valid), f, protocol=pickle.HIGHEST_PROTOCOL)\n",
    "\n",
    "with open('mnist-tf-test.pkl', 'wb') as f:\n",
    "    pickle.dump((X_test, y_test), f, protocol=pickle.HIGHEST_PROTOCOL)"
   ]
  },
  {
   "cell_type": "markdown",
   "metadata": {},
   "source": [
    "Verify that they have been created locally"
   ]
  },
  {
   "cell_type": "code",
   "execution_count": null,
   "metadata": {},
   "outputs": [],
   "source": [
    "!ls -lh"
   ]
  },
  {
   "cell_type": "markdown",
   "metadata": {},
   "source": [
    "Get the COS Connection credentials"
   ]
  },
  {
   "cell_type": "code",
   "execution_count": null,
   "metadata": {},
   "outputs": [],
   "source": [
    "from project_lib import Project\n",
    "project = Project(project_id=project_id, project_access_token=project_access_token)\n",
    "pc = project.project_context\n",
    "\n",
    "cos_asset_id = [ d['asset_id'] for d in project.get_assets()if d['name'] == cos_connection_name and d['type'] == 'connection' ][0]\n",
    "cos_creds = project.get_connection(id=cos_asset_id )"
   ]
  },
  {
   "cell_type": "code",
   "execution_count": null,
   "metadata": {},
   "outputs": [],
   "source": [
    "! pip install --quiet ibm-cos-sdk"
   ]
  },
  {
   "cell_type": "markdown",
   "metadata": {},
   "source": [
    "Create COS buckets and upload images to training bucket"
   ]
  },
  {
   "cell_type": "code",
   "execution_count": null,
   "metadata": {},
   "outputs": [],
   "source": [
    "import ibm_boto3\n",
    "from ibm_botocore.client import Config\n",
    "\n",
    "api_key = cos_creds['api_key']\n",
    "service_instance_id = cos_creds['resource_instance_id']\n",
    "auth_endpoint = cos_creds['iam_url']\n",
    "service_endpoint = 'https://' + cos_creds['url']\n",
    "\n",
    "cos = ibm_boto3.client('s3',\n",
    "                      ibm_api_key_id=api_key,\n",
    "                      ibm_service_instance_id=service_instance_id,\n",
    "                      ibm_auth_endpoint=auth_endpoint,\n",
    "                      config=Config(signature_version='oauth'),\n",
    "                      endpoint_url=service_endpoint)\n",
    "\n",
    "# Create bucket if it doesn't exist\n",
    "for bucket in [ training_bucket, results_bucket ]:\n",
    "    try:\n",
    "        cos.create_bucket(Bucket=bucket)\n",
    "        print('Created bucket: ' + bucket)\n",
    "    except:\n",
    "        print('Bucket already exist: ' + bucket)\n",
    "        \n",
    "print('--')\n",
    "        \n",
    "for f in ['mnist-tf-train.pkl', 'mnist-tf-valid.pkl', 'mnist-tf-test.pkl']:\n",
    "    with open(f, 'rb') as data:\n",
    "       cos.upload_fileobj(data, training_bucket, f)\n",
    "       print('Uploaded {} to {}'.format(f, training_bucket))"
   ]
  },
  {
   "cell_type": "code",
   "execution_count": null,
   "metadata": {},
   "outputs": [],
   "source": []
  }
 ],
 "metadata": {
  "kernelspec": {
   "display_name": "Python 3.5",
   "language": "python",
   "name": "python3"
  },
  "language_info": {
   "codemirror_mode": {
    "name": "ipython",
    "version": 3
   },
   "file_extension": ".py",
   "mimetype": "text/x-python",
   "name": "python",
   "nbconvert_exporter": "python",
   "pygments_lexer": "ipython3",
   "version": "3.5.4"
  }
 },
 "nbformat": 4,
 "nbformat_minor": 1
}
